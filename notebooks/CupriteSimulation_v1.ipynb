{
 "cells": [
  {
   "cell_type": "code",
   "execution_count": 1,
   "metadata": {},
   "outputs": [
    {
     "name": "stdout",
     "output_type": "stream",
     "text": [
      "/Users/sserbin/scratch/isofit_output/20190425_CupriteSim/\n"
     ]
    }
   ],
   "source": [
    "import os\n",
    "import glob\n",
    "import subprocess\n",
    "import sys\n",
    "import time\n",
    "from IPython.display import display, Image\n",
    "import matplotlib.pyplot as plt\n",
    "from os.path import expanduser\n",
    "\n",
    "home = expanduser('~')\n",
    "output_dir = 'isofit_output/20190425_CupriteSim'\n",
    "output_path = ''.join([os.path.join(home,'scratch/',output_dir),'/'])\n",
    "os.makedirs(os.path.dirname(output_path), exist_ok=True)\n",
    "print(output_path)"
   ]
  },
  {
   "cell_type": "code",
   "execution_count": 2,
   "metadata": {},
   "outputs": [
    {
     "data": {
      "text/plain": [
       "0"
      ]
     },
     "execution_count": 2,
     "metadata": {},
     "output_type": "execute_result"
    }
   ],
   "source": [
    "# Grab isofit_prosaild Docker container\n",
    "os.system(\"docker pull serbinsh/isofit_containers:isofit_prosaild_master_latest\")"
   ]
  },
  {
   "cell_type": "code",
   "execution_count": null,
   "metadata": {},
   "outputs": [],
   "source": [
    "# Setup isofit run options and inputs\n",
    "docker_name = \"serbinsh/isofit_containers:isofit_prosaild_master_latest\"\n",
    "host_output_dir = output_path\n",
    "docker_output_dir = \"/isofit/examples/20171108_Pasadena/\"\n",
    "print(''.join([host_output_dir,\":\",docker_output_dir]))\n",
    "#\n",
    "examples = \"/isofit/examples/20171108_Pasadena\"\n",
    "run_command = ''.join([\"/bin/sh -c \",\"'cd \",examples,\" && ./run_example_libradtran.sh'\"])\n",
    "print(run_command)"
   ]
  }
 ],
 "metadata": {
  "kernelspec": {
   "display_name": "Python 3",
   "language": "python",
   "name": "python3"
  },
  "language_info": {
   "codemirror_mode": {
    "name": "ipython",
    "version": 3
   },
   "file_extension": ".py",
   "mimetype": "text/x-python",
   "name": "python",
   "nbconvert_exporter": "python",
   "pygments_lexer": "ipython3",
   "version": "3.6.7"
  }
 },
 "nbformat": 4,
 "nbformat_minor": 2
}
