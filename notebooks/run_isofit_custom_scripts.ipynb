{
 "cells": [
  {
   "cell_type": "code",
   "execution_count": 2,
   "metadata": {},
   "outputs": [
    {
     "name": "stdout",
     "output_type": "stream",
     "text": [
      "/Users/shawnserbin/Data/GitHub/isofit_docker\n",
      "/Users/shawnserbin/scratch/isofit_output/\n"
     ]
    }
   ],
   "source": [
    "import os\n",
    "import glob\n",
    "import subprocess\n",
    "import sys\n",
    "import time\n",
    "from IPython.display import display, Image\n",
    "import matplotlib.pyplot as plt\n",
    "from os.path import expanduser\n",
    "\n",
    "# ${HOME} path\n",
    "home = expanduser('~')\n",
    "\n",
    "# isofit GitHub location\n",
    "github = 'Data/GitHub/isofit_docker'\n",
    "github_path = ''.join([os.path.join(home,github)])\n",
    "print(github_path)\n",
    "\n",
    "# output path\n",
    "output_dir = 'isofit_output'\n",
    "output_path = ''.join([os.path.join(home,'scratch/',output_dir),'/'])\n",
    "os.makedirs(os.path.dirname(output_path), exist_ok=True)\n",
    "print(output_path)"
   ]
  },
  {
   "cell_type": "code",
   "execution_count": 3,
   "metadata": {},
   "outputs": [
    {
     "data": {
      "text/plain": [
       "0"
      ]
     },
     "execution_count": 3,
     "metadata": {},
     "output_type": "execute_result"
    }
   ],
   "source": [
    "# Grab isofit_prosaild Docker container\n",
    "os.system(\"docker pull serbinsh/isofit_containers:isofit_prosaild_master_latest\")"
   ]
  },
  {
   "cell_type": "code",
   "execution_count": 16,
   "metadata": {},
   "outputs": [
    {
     "name": "stdout",
     "output_type": "stream",
     "text": [
      "/Users/shawnserbin/scratch/isofit_output/:/isofit/examples/20171108_Pasadena/\n",
      "/Users/shawnserbin/Data/GitHub/isofit_docker/examples\n",
      "/bin/sh -c 'cd /tmp/ && ./run_example_libradtran.sh'\n"
     ]
    }
   ],
   "source": [
    "# Setup isofit run options and inputs\n",
    "docker_name = \"serbinsh/isofit_containers:isofit_prosaild_master_latest\"\n",
    "host_output_dir = output_path\n",
    "docker_output_dir = \"/isofit/examples/20171108_Pasadena/\"\n",
    "print(''.join([host_output_dir,\":\",docker_output_dir]))\n",
    "#\n",
    "# host script dir\n",
    "host_scripts = ''.join([github_path,\"/examples\"])\n",
    "print(host_scripts)\n",
    "#\n",
    "# docker script dir\n",
    "docker_scripts = '/tmp/'\n",
    "#\n",
    "# run command\n",
    "run_command = ''.join([\"/bin/sh -c \",\"'cd \",docker_scripts,\" && ./run_example_libradtran.sh'\"])\n",
    "print(run_command)"
   ]
  },
  {
   "cell_type": "code",
   "execution_count": 25,
   "metadata": {},
   "outputs": [
    {
     "name": "stdout",
     "output_type": "stream",
     "text": [
      "docker run --user isofit -v /Users/shawnserbin/scratch/isofit_output/:/isofit/examples/20171108_Pasadena/output -v /Users/shawnserbin/scratch/isofit_output//images:/isofit/examples/20171108_Pasadena/images -v /Users/shawnserbin/scratch/isofit_output//lut:/isofit/examples/20171108_Pasadena/lut -v /Users/shawnserbin/Data/GitHub/isofit_docker/examples:/tmp/ serbinsh/isofit_containers:isofit_prosaild_master_latest /bin/sh -c 'cd /tmp/ && ./run_example_libradtran.sh'\n"
     ]
    }
   ],
   "source": [
    "# Setup full run call\n",
    "run = ''.join([\"docker run --user isofit -v \",host_output_dir,\":\",docker_output_dir,\"output -v \", host_output_dir,\"/images:\",docker_output_dir,\"images -v \",host_output_dir,\"/lut:\",docker_output_dir,\"lut -v \",host_scripts,\":\",docker_scripts,\" \",docker_name,\" \",run_command])\n",
    "print(run)"
   ]
  },
  {
   "cell_type": "code",
   "execution_count": 28,
   "metadata": {},
   "outputs": [
    {
     "name": "stdout",
     "output_type": "stream",
     "text": [
      "388.0013370513916\n"
     ]
    }
   ],
   "source": [
    "# Run isofit\n",
    "start = time.time()\n",
    "# run the docker container\n",
    "os.system(run)\n",
    "# get runtime\n",
    "end = time.time()\n",
    "#Print runtime\n",
    "print(end - start)"
   ]
  },
  {
   "cell_type": "code",
   "execution_count": null,
   "metadata": {},
   "outputs": [],
   "source": []
  }
 ],
 "metadata": {
  "kernelspec": {
   "display_name": "Python 3",
   "language": "python",
   "name": "python3"
  },
  "language_info": {
   "codemirror_mode": {
    "name": "ipython",
    "version": 3
   },
   "file_extension": ".py",
   "mimetype": "text/x-python",
   "name": "python",
   "nbconvert_exporter": "python",
   "pygments_lexer": "ipython3",
   "version": "3.7.2"
  }
 },
 "nbformat": 4,
 "nbformat_minor": 2
}
